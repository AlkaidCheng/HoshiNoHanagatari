{
  "nbformat": 4,
  "nbformat_minor": 0,
  "metadata": {
    "colab": {
      "name": "Untitled3.ipynb",
      "version": "0.3.2",
      "provenance": [],
      "include_colab_link": true
    },
    "kernelspec": {
      "name": "python3",
      "display_name": "Python 3"
    }
  },
  "cells": [
    {
      "cell_type": "markdown",
      "metadata": {
        "id": "view-in-github",
        "colab_type": "text"
      },
      "source": [
        "<a href=\"https://colab.research.google.com/github/AlkaidCheng/HoshiNoHanagatari/blob/master/PasswordGenerator.ipynb\" target=\"_parent\"><img src=\"https://colab.research.google.com/assets/colab-badge.svg\" alt=\"Open In Colab\"/></a>"
      ]
    },
    {
      "cell_type": "code",
      "metadata": {
        "id": "FK6yhFjXt7n5",
        "colab_type": "code",
        "outputId": "ff057086-36df-47d8-aa8f-5ea0748daf0a",
        "colab": {
          "base_uri": "https://localhost:8080/",
          "height": 85
        }
      },
      "source": [
        "!pip install passgen"
      ],
      "execution_count": 4,
      "outputs": [
        {
          "output_type": "stream",
          "text": [
            "Collecting passgen\n",
            "  Downloading https://files.pythonhosted.org/packages/ba/a0/c7d876f2625bc60737a58b4de6389580e0c8010ff699763314378b704e76/passgen-1.1.1-py2.py3-none-any.whl\n",
            "Installing collected packages: passgen\n",
            "Successfully installed passgen-1.1.1\n"
          ],
          "name": "stdout"
        }
      ]
    },
    {
      "cell_type": "code",
      "metadata": {
        "id": "BlS0b31Jt9bT",
        "colab_type": "code",
        "colab": {}
      },
      "source": [
        "from passgen import passgen"
      ],
      "execution_count": 0,
      "outputs": []
    },
    {
      "cell_type": "code",
      "metadata": {
        "id": "vlVbTjubuLf1",
        "colab_type": "code",
        "colab": {}
      },
      "source": [
        "N = 1000\n",
        "FileName = 'FaYu.txt'"
      ],
      "execution_count": 0,
      "outputs": []
    },
    {
      "cell_type": "code",
      "metadata": {
        "id": "I1SQoeRt0LJS",
        "colab_type": "code",
        "colab": {}
      },
      "source": [
        "f = open(FileName,'a')"
      ],
      "execution_count": 0,
      "outputs": []
    },
    {
      "cell_type": "code",
      "metadata": {
        "id": "d4ydMsTDuCe2",
        "colab_type": "code",
        "colab": {}
      },
      "source": [
        "def StarAlgorithm(n = 1000, userwlength = 4, usernlength = 8, passwlength = 4 ):\n",
        "  Username = [passgen(length=userwlength, punctuation=False, digits=False, letters=True, case='lower')+passgen(length=usernlength, punctuation=False, digits=True, letters=False) for i in range (n)]\n",
        "  Password = [passgen(length=passwlength, punctuation=False, digits=False, letters=True, case='upper')+'zxcv5678' for i in range (n)]\n",
        "  return zip(Username,Password)"
      ],
      "execution_count": 0,
      "outputs": []
    },
    {
      "cell_type": "code",
      "metadata": {
        "id": "UDqBU-ivuFN5",
        "colab_type": "code",
        "colab": {}
      },
      "source": [
        "with open(FileName, 'a') as f:\n",
        "  for i,(usrname,passwd) in enumerate(StarAlgorithm(N)):\n",
        "    print(i,':\\tUsername: ',usrname,'\\tPassword: ',passwd,file = f)\n",
        "f.close()"
      ],
      "execution_count": 0,
      "outputs": []
    },
    {
      "cell_type": "code",
      "metadata": {
        "id": "9Vp39bX9vAlJ",
        "colab_type": "code",
        "colab": {
          "base_uri": "https://localhost:8080/",
          "height": 34
        },
        "outputId": "c1c5e507-1960-4c2c-8aa6-87564f74b1be"
      },
      "source": [
        "pwd"
      ],
      "execution_count": 20,
      "outputs": [
        {
          "output_type": "execute_result",
          "data": {
            "text/plain": [
              "'/content'"
            ]
          },
          "metadata": {
            "tags": []
          },
          "execution_count": 20
        }
      ]
    },
    {
      "cell_type": "code",
      "metadata": {
        "id": "FYT0IVGS1Dy0",
        "colab_type": "code",
        "colab": {}
      },
      "source": [
        ""
      ],
      "execution_count": 0,
      "outputs": []
    }
  ]
}